{
  "nbformat": 4,
  "nbformat_minor": 0,
  "metadata": {
    "colab": {
      "name": "Core learning algorithms.ipynb",
      "provenance": [],
      "collapsed_sections": []
    },
    "kernelspec": {
      "name": "python3",
      "display_name": "Python 3"
    },
    "language_info": {
      "name": "python"
    }
  },
  "cells": [
    {
      "cell_type": "markdown",
      "source": [
        "### **Linear Regression Algorithm**\n"
      ],
      "metadata": {
        "id": "sxObqgxLFMEP"
      }
    },
    {
      "cell_type": "code",
      "execution_count": null,
      "metadata": {
        "id": "FTZij4AvAHwu"
      },
      "outputs": [],
      "source": [
        "import matplotlib.pyplot as plt\n",
        "import numpy as np"
      ]
    },
    {
      "cell_type": "markdown",
      "source": [
        "Creating datapoints"
      ],
      "metadata": {
        "id": "wDue0sbvEKK0"
      }
    },
    {
      "cell_type": "code",
      "source": [
        "x = [1,2,2.5,3,4,5]\n",
        "y = [1,4,7,9,15,19]"
      ],
      "metadata": {
        "id": "dJCcabi0EOVk"
      },
      "execution_count": null,
      "outputs": []
    },
    {
      "cell_type": "markdown",
      "source": [
        "Calling the plot function and creating line of best fit"
      ],
      "metadata": {
        "id": "lVCjwT-QEWvX"
      }
    },
    {
      "cell_type": "code",
      "source": [
        "plt.plot(x,y,'ro')\n",
        "plt.axis([0,6,0,20])\n",
        "plt.plot(np.unique(x), np.poly1d(np.polyfit(x,y,1))(np.unique(x)))\n",
        "plt.show()"
      ],
      "metadata": {
        "colab": {
          "base_uri": "https://localhost:8080/",
          "height": 269
        },
        "id": "EImuJ04GE-Bt",
        "outputId": "a93c3257-d0c0-4536-af55-f0a6c63fce29"
      },
      "execution_count": null,
      "outputs": [
        {
          "output_type": "display_data",
          "data": {
            "text/plain": [
              "<Figure size 432x288 with 1 Axes>"
            ],
            "image/png": "[encoded data removed]"
          },
          "metadata": {
            "needs_background": "light"
          }
        }
      ]
    },
    {
      "cell_type": "markdown",
      "source": [
        "## **Setup**"
      ],
      "metadata": {
        "id": "rJvw_yboJevK"
      }
    },
    {
      "cell_type": "code",
      "source": [
        "!pip install -q sklearn"
      ],
      "metadata": {
        "id": "H8v-46ZgJjzK"
      },
      "execution_count": null,
      "outputs": []
    },
    {
      "cell_type": "code",
      "source": [
        "%tensorflow_version 2.x"
      ],
      "metadata": {
        "id": "0K_yu8ksJuKo"
      },
      "execution_count": null,
      "outputs": []
    },
    {
      "cell_type": "code",
      "source": [
        "from __future__ import absolute_import, division, print_function, unicode_literals\n",
        "\n",
        "import numpy as np\n",
        "import pandas as pd\n",
        "import matplotlib.pyplot as plt\n",
        "from IPython.display import clear_output\n",
        "from six.moves import urllib\n",
        "\n",
        "import tensorflow.compat.v2.feature_column as fc\n",
        "\n",
        "import tensorflow as tf"
      ],
      "metadata": {
        "id": "PahuQmVSJ2I5"
      },
      "execution_count": null,
      "outputs": []
    },
    {
      "cell_type": "markdown",
      "source": [
        "Load the dataset"
      ],
      "metadata": {
        "id": "3_PlWAK9zGVl"
      }
    },
    {
      "cell_type": "code",
      "source": [
        "dftrain = pd.read"
      ],
      "metadata": {
        "id": "Gl7WhN_MzUEO"
      },
      "execution_count": null,
      "outputs": []
    }
  ]
}